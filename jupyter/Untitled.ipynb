{
 "cells": [
  {
   "cell_type": "code",
   "execution_count": 11,
   "metadata": {},
   "outputs": [],
   "source": [
    "import requests\n",
    "import pandas\n",
    "from bs4 import BeautifulSoup\n",
    "import json\n",
    "import csv\n",
    "\n",
    "l = {}\n",
    "r = requests.get(\"http://www.worldatlas.com/aatlas/ctycodes.htm\")\n",
    "c = r.content\n",
    "\n",
    "soup = BeautifulSoup(c, \"html.parser\")\n",
    "soup.find(\"tr\").extract()\n",
    "all = soup.find_all(\"tr\")\n",
    "\n",
    "for item in all:\n",
    "    d = {}\n",
    "    d[item.find_all(\"td\")[2].text] = [item.find_all(\"td\")[0].text, item.find_all(\"td\")[1].text, item.find_all(\"td\")[2].text]\n",
    "    l.update(d)\n",
    "    \n",
    "df = pandas.DataFrame(l)\n",
    "\n",
    "with open('data.json', 'w') as fp:\n",
    "    json.dump(l, fp)"
   ]
  },
  {
   "cell_type": "code",
   "execution_count": null,
   "metadata": {
    "collapsed": true
   },
   "outputs": [],
   "source": []
  }
 ],
 "metadata": {
  "kernelspec": {
   "display_name": "Python 3",
   "language": "python",
   "name": "python3"
  },
  "language_info": {
   "codemirror_mode": {
    "name": "ipython",
    "version": 3
   },
   "file_extension": ".py",
   "mimetype": "text/x-python",
   "name": "python",
   "nbconvert_exporter": "python",
   "pygments_lexer": "ipython3",
   "version": "3.6.2"
  }
 },
 "nbformat": 4,
 "nbformat_minor": 2
}
